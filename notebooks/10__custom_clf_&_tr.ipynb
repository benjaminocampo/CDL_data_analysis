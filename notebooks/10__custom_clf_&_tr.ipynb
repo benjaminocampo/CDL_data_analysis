{
 "cells": [
  {
   "cell_type": "markdown",
   "metadata": {},
   "source": [
    "## Custom Transformers"
   ]
  },
  {
   "cell_type": "markdown",
   "metadata": {},
   "source": [
    "A custom transformer CustomScaler is defined for z-score scaling (standardizing) of data. Since scaling doesn’t require learning any parameters from the data, fit method just returns self. The transform method applies the z-score scaling formula."
   ]
  },
  {
   "cell_type": "code",
   "execution_count": 4,
   "metadata": {},
   "outputs": [],
   "source": [
    "from sklearn.base import BaseEstimator, TransformerMixin\n",
    "import numpy as np\n",
    "\n",
    "class CustomScaler(BaseEstimator, TransformerMixin):\n",
    "    def fit(self, X, y=None):\n",
    "        return self  # nothing to fit\n",
    "    \n",
    "    def transform(self, X, y=None):\n",
    "        return (X - np.mean(X)) / np.std(X)  # simple z-score scaling"
   ]
  },
  {
   "cell_type": "code",
   "execution_count": 5,
   "metadata": {},
   "outputs": [],
   "source": [
    "custom_scaler = CustomScaler()"
   ]
  },
  {
   "cell_type": "code",
   "execution_count": 6,
   "metadata": {},
   "outputs": [],
   "source": [
    "from sklearn.datasets import load_iris\n",
    "\n",
    "data = load_iris()"
   ]
  },
  {
   "cell_type": "code",
   "execution_count": 7,
   "metadata": {},
   "outputs": [],
   "source": [
    "X = data[\"data\"]"
   ]
  },
  {
   "cell_type": "code",
   "execution_count": 8,
   "metadata": {},
   "outputs": [],
   "source": [
    "y = data[\"target\"]"
   ]
  },
  {
   "cell_type": "code",
   "execution_count": 9,
   "metadata": {},
   "outputs": [
    {
     "data": {
      "text/plain": [
       "array([[ 0.82858665,  0.01798522, -1.04592915, -1.65388022],\n",
       "       [ 0.72726147, -0.23532773, -1.04592915, -1.65388022],\n",
       "       [ 0.62593629, -0.13400255, -1.09659174, -1.65388022],\n",
       "       [ 0.5752737 , -0.18466514, -0.99526657, -1.65388022],\n",
       "       [ 0.77792406,  0.06864781, -1.04592915, -1.65388022],\n",
       "       [ 0.98057441,  0.22063558, -0.89394139, -1.55255505],\n",
       "       [ 0.5752737 , -0.03267737, -1.04592915, -1.60321764],\n",
       "       [ 0.77792406, -0.03267737, -0.99526657, -1.65388022],\n",
       "       [ 0.47394852, -0.28599032, -1.04592915, -1.65388022],\n",
       "       [ 0.72726147, -0.18466514, -0.99526657, -1.70454281],\n",
       "       [ 0.98057441,  0.1193104 , -0.99526657, -1.65388022],\n",
       "       [ 0.67659888, -0.03267737, -0.94460398, -1.65388022],\n",
       "       [ 0.67659888, -0.23532773, -1.04592915, -1.70454281],\n",
       "       [ 0.42328593, -0.23532773, -1.19791692, -1.70454281],\n",
       "       [ 1.18322477,  0.27129817, -1.14725433, -1.65388022],\n",
       "       [ 1.13256218,  0.47394852, -0.99526657, -1.55255505],\n",
       "       [ 0.98057441,  0.22063558, -1.09659174, -1.55255505],\n",
       "       [ 0.82858665,  0.01798522, -1.04592915, -1.60321764],\n",
       "       [ 1.13256218,  0.16997299, -0.89394139, -1.60321764],\n",
       "       [ 0.82858665,  0.16997299, -0.99526657, -1.60321764],\n",
       "       [ 0.98057441, -0.03267737, -0.89394139, -1.65388022],\n",
       "       [ 0.82858665,  0.1193104 , -0.99526657, -1.55255505],\n",
       "       [ 0.5752737 ,  0.06864781, -1.24857951, -1.65388022],\n",
       "       [ 0.82858665, -0.08333996, -0.89394139, -1.50189246],\n",
       "       [ 0.67659888, -0.03267737, -0.79261621, -1.65388022],\n",
       "       [ 0.77792406, -0.23532773, -0.94460398, -1.65388022],\n",
       "       [ 0.77792406, -0.03267737, -0.94460398, -1.55255505],\n",
       "       [ 0.87924924,  0.01798522, -0.99526657, -1.65388022],\n",
       "       [ 0.87924924, -0.03267737, -1.04592915, -1.65388022],\n",
       "       [ 0.62593629, -0.13400255, -0.94460398, -1.65388022],\n",
       "       [ 0.67659888, -0.18466514, -0.94460398, -1.65388022],\n",
       "       [ 0.98057441, -0.03267737, -0.99526657, -1.55255505],\n",
       "       [ 0.87924924,  0.32196075, -0.99526657, -1.70454281],\n",
       "       [ 1.031237  ,  0.37262334, -1.04592915, -1.65388022],\n",
       "       [ 0.72726147, -0.18466514, -0.99526657, -1.65388022],\n",
       "       [ 0.77792406, -0.13400255, -1.14725433, -1.65388022],\n",
       "       [ 1.031237  ,  0.01798522, -1.09659174, -1.65388022],\n",
       "       [ 0.72726147,  0.06864781, -1.04592915, -1.70454281],\n",
       "       [ 0.47394852, -0.23532773, -1.09659174, -1.65388022],\n",
       "       [ 0.82858665, -0.03267737, -0.99526657, -1.65388022],\n",
       "       [ 0.77792406,  0.01798522, -1.09659174, -1.60321764],\n",
       "       [ 0.52461111, -0.58996585, -1.09659174, -1.60321764],\n",
       "       [ 0.47394852, -0.13400255, -1.09659174, -1.65388022],\n",
       "       [ 0.77792406,  0.01798522, -0.94460398, -1.45122987],\n",
       "       [ 0.82858665,  0.16997299, -0.79261621, -1.55255505],\n",
       "       [ 0.67659888, -0.23532773, -1.04592915, -1.60321764],\n",
       "       [ 0.82858665,  0.16997299, -0.94460398, -1.65388022],\n",
       "       [ 0.5752737 , -0.13400255, -1.04592915, -1.65388022],\n",
       "       [ 0.92991182,  0.1193104 , -0.99526657, -1.65388022],\n",
       "       [ 0.77792406, -0.08333996, -1.04592915, -1.65388022],\n",
       "       [ 1.79117584, -0.13400255,  0.62593629, -1.04592915],\n",
       "       [ 1.48720031, -0.13400255,  0.52461111, -0.99526657],\n",
       "       [ 1.74051325, -0.18466514,  0.72726147, -0.99526657],\n",
       "       [ 1.031237  , -0.58996585,  0.27129817, -1.09659174],\n",
       "       [ 1.5378629 , -0.33665291,  0.5752737 , -0.99526657],\n",
       "       [ 1.13256218, -0.33665291,  0.52461111, -1.09659174],\n",
       "       [ 1.43653772, -0.08333996,  0.62593629, -0.94460398],\n",
       "       [ 0.72726147, -0.53930326, -0.08333996, -1.24857951],\n",
       "       [ 1.58852548, -0.28599032,  0.5752737 , -1.09659174],\n",
       "       [ 0.87924924, -0.38731549,  0.22063558, -1.04592915],\n",
       "       [ 0.77792406, -0.74195362,  0.01798522, -1.24857951],\n",
       "       [ 1.23388736, -0.23532773,  0.37262334, -0.99526657],\n",
       "       [ 1.28454995, -0.64062844,  0.27129817, -1.24857951],\n",
       "       [ 1.33521254, -0.28599032,  0.62593629, -1.04592915],\n",
       "       [ 1.08189959, -0.28599032,  0.06864781, -1.09659174],\n",
       "       [ 1.63918807, -0.18466514,  0.47394852, -1.04592915],\n",
       "       [ 1.08189959, -0.23532773,  0.52461111, -0.99526657],\n",
       "       [ 1.18322477, -0.38731549,  0.32196075, -1.24857951],\n",
       "       [ 1.38587513, -0.64062844,  0.52461111, -0.99526657],\n",
       "       [ 1.08189959, -0.48864067,  0.22063558, -1.19791692],\n",
       "       [ 1.23388736, -0.13400255,  0.67659888, -0.8432788 ],\n",
       "       [ 1.33521254, -0.33665291,  0.27129817, -1.09659174],\n",
       "       [ 1.43653772, -0.48864067,  0.72726147, -0.99526657],\n",
       "       [ 1.33521254, -0.33665291,  0.62593629, -1.14725433],\n",
       "       [ 1.48720031, -0.28599032,  0.42328593, -1.09659174],\n",
       "       [ 1.58852548, -0.23532773,  0.47394852, -1.04592915],\n",
       "       [ 1.68985066, -0.33665291,  0.67659888, -1.04592915],\n",
       "       [ 1.63918807, -0.23532773,  0.77792406, -0.89394139],\n",
       "       [ 1.28454995, -0.28599032,  0.52461111, -0.99526657],\n",
       "       [ 1.13256218, -0.43797808,  0.01798522, -1.24857951],\n",
       "       [ 1.031237  , -0.53930326,  0.16997299, -1.19791692],\n",
       "       [ 1.031237  , -0.53930326,  0.1193104 , -1.24857951],\n",
       "       [ 1.18322477, -0.38731549,  0.22063558, -1.14725433],\n",
       "       [ 1.28454995, -0.38731549,  0.82858665, -0.94460398],\n",
       "       [ 0.98057441, -0.23532773,  0.52461111, -0.99526657],\n",
       "       [ 1.28454995, -0.03267737,  0.52461111, -0.94460398],\n",
       "       [ 1.63918807, -0.18466514,  0.62593629, -0.99526657],\n",
       "       [ 1.43653772, -0.58996585,  0.47394852, -1.09659174],\n",
       "       [ 1.08189959, -0.23532773,  0.32196075, -1.09659174],\n",
       "       [ 1.031237  , -0.48864067,  0.27129817, -1.09659174],\n",
       "       [ 1.031237  , -0.43797808,  0.47394852, -1.14725433],\n",
       "       [ 1.33521254, -0.23532773,  0.5752737 , -1.04592915],\n",
       "       [ 1.18322477, -0.43797808,  0.27129817, -1.14725433],\n",
       "       [ 0.77792406, -0.58996585, -0.08333996, -1.24857951],\n",
       "       [ 1.08189959, -0.38731549,  0.37262334, -1.09659174],\n",
       "       [ 1.13256218, -0.23532773,  0.37262334, -1.14725433],\n",
       "       [ 1.13256218, -0.28599032,  0.37262334, -1.09659174],\n",
       "       [ 1.38587513, -0.28599032,  0.42328593, -1.09659174],\n",
       "       [ 0.82858665, -0.48864067, -0.23532773, -1.19791692],\n",
       "       [ 1.13256218, -0.33665291,  0.32196075, -1.09659174],\n",
       "       [ 1.43653772, -0.08333996,  1.28454995, -0.48864067],\n",
       "       [ 1.18322477, -0.38731549,  0.82858665, -0.79261621],\n",
       "       [ 1.84183843, -0.23532773,  1.23388736, -0.69129103],\n",
       "       [ 1.43653772, -0.28599032,  1.08189959, -0.8432788 ],\n",
       "       [ 1.5378629 , -0.23532773,  1.18322477, -0.64062844],\n",
       "       [ 2.09515138, -0.23532773,  1.58852548, -0.69129103],\n",
       "       [ 0.72726147, -0.48864067,  0.52461111, -0.89394139],\n",
       "       [ 1.94316361, -0.28599032,  1.43653772, -0.8432788 ],\n",
       "       [ 1.63918807, -0.48864067,  1.18322477, -0.8432788 ],\n",
       "       [ 1.89250102,  0.06864781,  1.33521254, -0.48864067],\n",
       "       [ 1.5378629 , -0.13400255,  0.82858665, -0.74195362],\n",
       "       [ 1.48720031, -0.38731549,  0.92991182, -0.79261621],\n",
       "       [ 1.68985066, -0.23532773,  1.031237  , -0.69129103],\n",
       "       [ 1.13256218, -0.48864067,  0.77792406, -0.74195362],\n",
       "       [ 1.18322477, -0.33665291,  0.82858665, -0.53930326],\n",
       "       [ 1.48720031, -0.13400255,  0.92991182, -0.58996585],\n",
       "       [ 1.5378629 , -0.23532773,  1.031237  , -0.8432788 ],\n",
       "       [ 2.14581397,  0.16997299,  1.63918807, -0.64062844],\n",
       "       [ 2.14581397, -0.43797808,  1.74051325, -0.58996585],\n",
       "       [ 1.28454995, -0.64062844,  0.77792406, -0.99526657],\n",
       "       [ 1.74051325, -0.13400255,  1.13256218, -0.58996585],\n",
       "       [ 1.08189959, -0.33665291,  0.72726147, -0.74195362],\n",
       "       [ 2.14581397, -0.33665291,  1.63918807, -0.74195362],\n",
       "       [ 1.43653772, -0.38731549,  0.72726147, -0.8432788 ],\n",
       "       [ 1.63918807, -0.08333996,  1.13256218, -0.69129103],\n",
       "       [ 1.89250102, -0.13400255,  1.28454995, -0.8432788 ],\n",
       "       [ 1.38587513, -0.33665291,  0.67659888, -0.8432788 ],\n",
       "       [ 1.33521254, -0.23532773,  0.72726147, -0.8432788 ],\n",
       "       [ 1.48720031, -0.33665291,  1.08189959, -0.69129103],\n",
       "       [ 1.89250102, -0.23532773,  1.18322477, -0.94460398],\n",
       "       [ 1.9938262 , -0.33665291,  1.33521254, -0.79261621],\n",
       "       [ 2.24713914,  0.16997299,  1.48720031, -0.74195362],\n",
       "       [ 1.48720031, -0.33665291,  1.08189959, -0.64062844],\n",
       "       [ 1.43653772, -0.33665291,  0.82858665, -0.99526657],\n",
       "       [ 1.33521254, -0.43797808,  1.08189959, -1.04592915],\n",
       "       [ 2.14581397, -0.23532773,  1.33521254, -0.58996585],\n",
       "       [ 1.43653772, -0.03267737,  1.08189959, -0.53930326],\n",
       "       [ 1.48720031, -0.18466514,  1.031237  , -0.8432788 ],\n",
       "       [ 1.28454995, -0.23532773,  0.67659888, -0.8432788 ],\n",
       "       [ 1.74051325, -0.18466514,  0.98057441, -0.69129103],\n",
       "       [ 1.63918807, -0.18466514,  1.08189959, -0.53930326],\n",
       "       [ 1.74051325, -0.18466514,  0.82858665, -0.58996585],\n",
       "       [ 1.18322477, -0.38731549,  0.82858665, -0.79261621],\n",
       "       [ 1.68985066, -0.13400255,  1.23388736, -0.58996585],\n",
       "       [ 1.63918807, -0.08333996,  1.13256218, -0.48864067],\n",
       "       [ 1.63918807, -0.23532773,  0.87924924, -0.58996585],\n",
       "       [ 1.43653772, -0.48864067,  0.77792406, -0.79261621],\n",
       "       [ 1.5378629 , -0.23532773,  0.87924924, -0.74195362],\n",
       "       [ 1.38587513, -0.03267737,  0.98057441, -0.58996585],\n",
       "       [ 1.23388736, -0.23532773,  0.82858665, -0.8432788 ]])"
      ]
     },
     "execution_count": 9,
     "metadata": {},
     "output_type": "execute_result"
    }
   ],
   "source": [
    "custom_scaler.transform(X)"
   ]
  },
  {
   "cell_type": "markdown",
   "metadata": {},
   "source": [
    "Similarly, `OutlierRemoval` is a transformer that removes outliers based on the Interquartile Range (IQR)."
   ]
  },
  {
   "cell_type": "code",
   "execution_count": 10,
   "metadata": {},
   "outputs": [],
   "source": [
    "from sklearn.base import BaseEstimator, TransformerMixin\n",
    "import numpy as np\n",
    "\n",
    "class OutlierRemoval(BaseEstimator, TransformerMixin):\n",
    "    def __init__(self, factor=1.5):\n",
    "        self.factor = factor\n",
    "        \n",
    "    def fit(self, X, y=None):\n",
    "        self.median = np.median(X, axis=0)\n",
    "        self.iqr = np.percentile(X, 75, axis=0) - np.percentile(X, 25, axis=0)\n",
    "        return self\n",
    "    \n",
    "    def transform(self, X, y=None):\n",
    "        lower_bound = self.median - self.factor * self.iqr\n",
    "        upper_bound = self.median + self.factor * self.iqr\n",
    "        return X[((X >= lower_bound) & (X <= upper_bound)).all(axis=1)]\n"
   ]
  },
  {
   "cell_type": "markdown",
   "metadata": {},
   "source": [
    "## Custom Classifiers"
   ]
  },
  {
   "cell_type": "markdown",
   "metadata": {},
   "source": [
    "Here two custom classifiers are defined - `MajorityClassClassifier`, which always predicts the majority class from the training data, and `ThresholdClassifier`, which makes predictions based on a threshold on a particular feature."
   ]
  },
  {
   "cell_type": "code",
   "execution_count": 11,
   "metadata": {},
   "outputs": [],
   "source": [
    "from sklearn.base import BaseEstimator, ClassifierMixin\n",
    "from scipy.stats import mode\n",
    "\n",
    "class MajorityClassClassifier(BaseEstimator, ClassifierMixin):\n",
    "    def fit(self, X, y):\n",
    "        self.majority_class = mode(y)[0][0]\n",
    "        return self\n",
    "    \n",
    "    def predict(self, X):\n",
    "        return [self.majority_class] * len(X)"
   ]
  },
  {
   "cell_type": "code",
   "execution_count": 12,
   "metadata": {},
   "outputs": [],
   "source": [
    "class ThresholdClassifier(BaseEstimator, ClassifierMixin):\n",
    "    def __init__(self, threshold=0.5, feature_index=0):\n",
    "        self.threshold = threshold\n",
    "        self.feature_index = feature_index\n",
    "    \n",
    "    def fit(self, X, y):\n",
    "        return self  # nothing to fit\n",
    "    \n",
    "    def predict(self, X):\n",
    "        return (X[:, self.feature_index] > self.threshold).astype(int)"
   ]
  },
  {
   "cell_type": "code",
   "execution_count": 13,
   "metadata": {},
   "outputs": [],
   "source": [
    "th_clf = ThresholdClassifier(threshold=0.7, feature_index=2)"
   ]
  },
  {
   "cell_type": "code",
   "execution_count": 14,
   "metadata": {},
   "outputs": [
    {
     "data": {
      "text/plain": [
       "0.7"
      ]
     },
     "execution_count": 14,
     "metadata": {},
     "output_type": "execute_result"
    }
   ],
   "source": [
    "th_clf.threshold"
   ]
  },
  {
   "cell_type": "code",
   "execution_count": 15,
   "metadata": {},
   "outputs": [],
   "source": [
    "import numpy as np\n",
    "from sklearn.base import BaseEstimator, ClassifierMixin\n",
    "from sklearn.utils.validation import check_X_y, check_array, check_is_fitted\n",
    "from sklearn.utils.multiclass import unique_labels\n",
    "\n",
    "class CustomRandomClassifier(BaseEstimator, ClassifierMixin):\n",
    "    def __init__(self, p=0.5):\n",
    "        self.p = p\n",
    "\n",
    "    def fit(self, X, y):\n",
    "        return self\n",
    "\n",
    "    def predict(self, X):\n",
    "        # Generate random predictions\n",
    "        random_preds = np.random.choice([0, 1], size=len(X), p=[1-self.p, self.p])\n",
    "        return random_preds"
   ]
  },
  {
   "cell_type": "code",
   "execution_count": 16,
   "metadata": {},
   "outputs": [],
   "source": [
    "random_clf = CustomRandomClassifier(p=0.7)"
   ]
  },
  {
   "cell_type": "code",
   "execution_count": 17,
   "metadata": {},
   "outputs": [
    {
     "data": {
      "text/plain": [
       "CustomRandomClassifier(p=0.7)"
      ]
     },
     "execution_count": 17,
     "metadata": {},
     "output_type": "execute_result"
    }
   ],
   "source": [
    "random_clf.fit(X, y)"
   ]
  },
  {
   "cell_type": "code",
   "execution_count": 18,
   "metadata": {},
   "outputs": [
    {
     "data": {
      "text/plain": [
       "array([0, 1, 1, 0, 1, 1, 1, 1, 1, 0, 1, 0, 1, 1, 1, 1, 0, 1, 1, 0, 0, 0,\n",
       "       0, 0, 1, 1, 1, 1, 0, 0, 1, 0, 1, 0, 0, 0, 0, 1, 0, 0, 0, 1, 0, 1,\n",
       "       0, 0, 0, 0, 0, 1, 1, 1, 1, 1, 0, 1, 1, 0, 0, 1, 1, 1, 1, 0, 1, 1,\n",
       "       1, 1, 1, 1, 0, 1, 0, 1, 1, 0, 1, 1, 0, 0, 1, 0, 1, 0, 1, 0, 1, 1,\n",
       "       1, 1, 0, 1, 1, 0, 1, 1, 1, 1, 1, 0, 0, 1, 1, 0, 1, 1, 1, 1, 1, 0,\n",
       "       0, 1, 1, 1, 1, 0, 0, 1, 0, 0, 1, 1, 1, 0, 1, 1, 1, 0, 0, 1, 1, 1,\n",
       "       1, 0, 1, 0, 1, 0, 1, 1, 1, 0, 1, 1, 1, 1, 1, 0, 0, 1])"
      ]
     },
     "execution_count": 18,
     "metadata": {},
     "output_type": "execute_result"
    }
   ],
   "source": [
    "random_clf.predict(X)"
   ]
  },
  {
   "cell_type": "markdown",
   "metadata": {},
   "source": [
    "Additional classifiers like CustomRandomClassifier which randomly predicts classes, HybridClassifier which averages predictions from a Random Forest and an XGBoost model, and SklearnTFHybrid which averages predictions from a Random Forest and a simple Pytorch neural network are also defined."
   ]
  },
  {
   "cell_type": "code",
   "execution_count": 19,
   "metadata": {},
   "outputs": [],
   "source": [
    "from sklearn.base import BaseEstimator, ClassifierMixin\n",
    "from sklearn.ensemble import RandomForestClassifier\n",
    "import xgboost as xgb\n",
    "\n",
    "class HybridClassifier(BaseEstimator, ClassifierMixin):\n",
    "    def __init__(self, sklearn_classifier=RandomForestClassifier(), xgb_classifier=xgb.XGBClassifier()):\n",
    "        self.sklearn_classifier = sklearn_classifier\n",
    "        self.xgb_classifier = xgb_classifier\n",
    "        \n",
    "    def fit(self, X, y):\n",
    "        self.sklearn_classifier.fit(X, y)\n",
    "        self.xgb_classifier.fit(X, y)\n",
    "        return self\n",
    "    \n",
    "    def predict(self, X):\n",
    "        sklearn_preds = self.sklearn_classifier.predict(X)\n",
    "        xgb_preds = self.xgb_classifier.predict(X)\n",
    "        final_preds = (sklearn_preds + xgb_preds) / 2  # Averaging predictions\n",
    "        return final_preds.round().astype(int)  # Round to nearest integer to get class labels\n"
   ]
  },
  {
   "cell_type": "code",
   "execution_count": 20,
   "metadata": {},
   "outputs": [],
   "source": [
    "hyb_clf = HybridClassifier()"
   ]
  },
  {
   "cell_type": "code",
   "execution_count": 21,
   "metadata": {},
   "outputs": [
    {
     "data": {
      "text/plain": [
       "XGBClassifier(base_score=None, booster=None, callbacks=None,\n",
       "              colsample_bylevel=None, colsample_bynode=None,\n",
       "              colsample_bytree=None, device=None, early_stopping_rounds=None,\n",
       "              enable_categorical=False, eval_metric=None, feature_types=None,\n",
       "              gamma=None, grow_policy=None, importance_type=None,\n",
       "              interaction_constraints=None, learning_rate=None, max_bin=None,\n",
       "              max_cat_threshold=None, max_cat_to_onehot=None,\n",
       "              max_delta_step=None, max_depth=None, max_leaves=None,\n",
       "              min_child_weight=None, missing=nan, monotone_constraints=None,\n",
       "              multi_strategy=None, n_estimators=None, n_jobs=None,\n",
       "              num_parallel_tree=None, random_state=None, ...)"
      ]
     },
     "execution_count": 21,
     "metadata": {},
     "output_type": "execute_result"
    }
   ],
   "source": [
    "hyb_clf.xgb_classifier"
   ]
  },
  {
   "cell_type": "code",
   "execution_count": 22,
   "metadata": {},
   "outputs": [
    {
     "data": {
      "text/plain": [
       "HybridClassifier()"
      ]
     },
     "execution_count": 22,
     "metadata": {},
     "output_type": "execute_result"
    }
   ],
   "source": [
    "hyb_clf.fit(X, y)"
   ]
  },
  {
   "cell_type": "code",
   "execution_count": 23,
   "metadata": {},
   "outputs": [
    {
     "data": {
      "text/plain": [
       "array([0, 0, 0, 0, 0, 0, 0, 0, 0, 0, 0, 0, 0, 0, 0, 0, 0, 0, 0, 0, 0, 0,\n",
       "       0, 0, 0, 0, 0, 0, 0, 0, 0, 0, 0, 0, 0, 0, 0, 0, 0, 0, 0, 0, 0, 0,\n",
       "       0, 0, 0, 0, 0, 0, 1, 1, 1, 1, 1, 1, 1, 1, 1, 1, 1, 1, 1, 1, 1, 1,\n",
       "       1, 1, 1, 1, 1, 1, 1, 1, 1, 1, 1, 1, 1, 1, 1, 1, 1, 1, 1, 1, 1, 1,\n",
       "       1, 1, 1, 1, 1, 1, 1, 1, 1, 1, 1, 1, 2, 2, 2, 2, 2, 2, 2, 2, 2, 2,\n",
       "       2, 2, 2, 2, 2, 2, 2, 2, 2, 2, 2, 2, 2, 2, 2, 2, 2, 2, 2, 2, 2, 2,\n",
       "       2, 2, 2, 2, 2, 2, 2, 2, 2, 2, 2, 2, 2, 2, 2, 2, 2, 2])"
      ]
     },
     "execution_count": 23,
     "metadata": {},
     "output_type": "execute_result"
    }
   ],
   "source": [
    "hyb_clf.predict(X)"
   ]
  },
  {
   "cell_type": "code",
   "execution_count": 24,
   "metadata": {},
   "outputs": [],
   "source": [
    "import torch\n",
    "import torch.nn as nn\n",
    "import torch.optim as optim\n",
    "from sklearn.ensemble import RandomForestClassifier\n",
    "from sklearn.base import BaseEstimator, ClassifierMixin\n",
    "from sklearn.preprocessing import StandardScaler\n",
    "\n",
    "class SimpleNN(nn.Module):\n",
    "    def __init__(self):\n",
    "        super(SimpleNN, self).__init__()\n",
    "        self.fc1 = nn.Linear(4, 64)  # Assuming 4 features as input\n",
    "        self.fc2 = nn.Linear(64, 3)  # Output layer for 3 classes\n",
    "\n",
    "    def forward(self, x):\n",
    "        x = torch.relu(self.fc1(x))\n",
    "        x = torch.softmax(self.fc2(x), dim=1)  # Use softmax for multi-class\n",
    "        return x\n",
    "\n",
    "class SklearnTorchHybrid(BaseEstimator, ClassifierMixin):\n",
    "    def __init__(self, sklearn_classifier=RandomForestClassifier()):\n",
    "        self.sklearn_classifier = sklearn_classifier\n",
    "        self.torch_model = SimpleNN()\n",
    "        self.criterion = nn.CrossEntropyLoss()  # Use CrossEntropyLoss for multi-class\n",
    "        self.optimizer = optim.Adam(self.torch_model.parameters(), lr=0.001)\n",
    "        \n",
    "    def fit(self, X, y):\n",
    "        scaler = StandardScaler().fit(X)\n",
    "        X_scaled = scaler.transform(X)\n",
    "        X_tensor = torch.tensor(X_scaled, dtype=torch.float32)\n",
    "        y_tensor = torch.tensor(y, dtype=torch.long)  # Labels for CrossEntropyLoss should be torch.long\n",
    "        \n",
    "        for epoch in range(10):  # Assuming 10 epochs\n",
    "            self.optimizer.zero_grad()\n",
    "            outputs = self.torch_model(X_tensor)\n",
    "            loss = self.criterion(outputs, y_tensor)\n",
    "            loss.backward()\n",
    "            self.optimizer.step()\n",
    "            \n",
    "        return self\n",
    "    \n",
    "    def predict(self, X):\n",
    "        scaler = StandardScaler().fit(X)\n",
    "        X_scaled = scaler.transform(X)\n",
    "        X_tensor = torch.tensor(X_scaled, dtype=torch.float32)\n",
    "        with torch.no_grad():\n",
    "            torch_preds = self.torch_model(X_tensor).argmax(dim=1).numpy()  # Use argmax to get the predicted class\n",
    "        final_preds = torch_preds\n",
    "        return final_preds\n"
   ]
  },
  {
   "cell_type": "markdown",
   "metadata": {},
   "source": [
    "## Custom Pipeline"
   ]
  },
  {
   "cell_type": "markdown",
   "metadata": {},
   "source": [
    "A scikit-learn pipeline is created combining the CustomScaler transformer and HybridClassifier. This pipeline is then fitted on the training data and evaluated on the test data, showcasing how custom transformers and classifiers can be integrated into scikit-learn pipelines for streamlined model training and evaluation."
   ]
  },
  {
   "cell_type": "code",
   "execution_count": 25,
   "metadata": {},
   "outputs": [],
   "source": [
    "from sklearn.datasets import load_iris\n",
    "from sklearn.model_selection import train_test_split\n",
    "\n",
    "# Load data\n",
    "iris = load_iris()\n",
    "X, y = iris.data, iris.target\n",
    "\n",
    "## For simplicity, convert to a binary classification problem\n",
    "#y_binary = (y == 0).astype(int)  # 1 if setosa, 0 otherwise\n",
    "\n",
    "# Split data\n",
    "X_train, X_test, y_train, y_test = train_test_split(X, y, test_size=0.2, random_state=42)"
   ]
  },
  {
   "cell_type": "code",
   "execution_count": 28,
   "metadata": {},
   "outputs": [
    {
     "name": "stdout",
     "output_type": "stream",
     "text": [
      "              precision    recall  f1-score   support\n",
      "\n",
      "           0       1.00      0.80      0.89        10\n",
      "           1       0.67      0.67      0.67         9\n",
      "           2       0.77      0.91      0.83        11\n",
      "\n",
      "    accuracy                           0.80        30\n",
      "   macro avg       0.81      0.79      0.80        30\n",
      "weighted avg       0.82      0.80      0.80        30\n",
      "\n"
     ]
    }
   ],
   "source": [
    "from sklearn.pipeline import Pipeline\n",
    "from sklearn.metrics import classification_report\n",
    "import xgboost as xgb\n",
    "from sklearn.ensemble import RandomForestClassifier\n",
    "\n",
    "# Assume CustomScaler, ThresholdClassifier, and HybridClassifier are defined as before\n",
    "\n",
    "pipeline = Pipeline([\n",
    "    #('scaler', CustomScaler()),\n",
    "    ('classifier', SklearnTorchHybrid()\n",
    ")])\n",
    "\n",
    "# Fit and evaluate\n",
    "pipeline.fit(X_train, y_train)\n",
    "predictions = pipeline.predict(X_test)\n",
    "print(classification_report(y_test, predictions))"
   ]
  },
  {
   "cell_type": "code",
   "execution_count": null,
   "metadata": {},
   "outputs": [],
   "source": []
  }
 ],
 "metadata": {
  "interpreter": {
   "hash": "9a261fe3232d26f5c8a3b17afd155c889a6f52aad30d4dff29769029555a05e9"
  },
  "kernelspec": {
   "display_name": "Python 3.9.7 ('phd-corpora')",
   "language": "python",
   "name": "python3"
  },
  "language_info": {
   "codemirror_mode": {
    "name": "ipython",
    "version": 3
   },
   "file_extension": ".py",
   "mimetype": "text/x-python",
   "name": "python",
   "nbconvert_exporter": "python",
   "pygments_lexer": "ipython3",
   "version": "3.9.7"
  },
  "orig_nbformat": 4
 },
 "nbformat": 4,
 "nbformat_minor": 2
}
